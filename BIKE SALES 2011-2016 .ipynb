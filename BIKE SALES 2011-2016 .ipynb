{
 "cells": [
  {
   "cell_type": "code",
   "execution_count": null,
   "id": "ecd0b78e",
   "metadata": {
    "id": "ecd0b78e"
   },
   "outputs": [],
   "source": [
    "import pandas as pd\n",
    "import numpy as np\n",
    "import statsmodels.api as sm\n",
    "import statsmodels.formula.api as smf\n",
    "import patsy\n",
    "\n",
    "import seaborn as sns\n",
    "import matplotlib.pyplot as plt\n",
    "from sklearn.linear_model import LinearRegression\n",
    "from sklearn.linear_model import RidgeCV\n",
    "%matplotlib inline\n",
    "\n",
    "from sklearn.model_selection import train_test_split\n",
    "from sklearn.linear_model import LinearRegression, Lasso, LassoCV, Ridge, RidgeCV\n",
    "from sklearn.preprocessing import StandardScaler,PolynomialFeatures\n",
    " \n",
    "import warnings\n",
    "warnings.filterwarnings('ignore')"
   ]
  },
  {
   "cell_type": "markdown",
   "id": "8e52fbf7",
   "metadata": {
    "id": "8e52fbf7"
   },
   "source": [
    "# import and read data set"
   ]
  },
  {
   "cell_type": "code",
   "execution_count": null,
   "id": "56dc1e1d",
   "metadata": {
    "id": "56dc1e1d"
   },
   "outputs": [],
   "source": [
    "df1 = pd.read_csv('Sales.csv')\n",
    "df1"
   ]
  },
  {
   "cell_type": "code",
   "execution_count": null,
   "id": "c1d218a3",
   "metadata": {
    "colab": {
     "base_uri": "https://localhost:8080/"
    },
    "id": "c1d218a3",
    "outputId": "92e2960d-b60c-4362-8419-ee507e792061"
   },
   "outputs": [],
   "source": [
    "df1.Product_Category.value_counts()"
   ]
  },
  {
   "cell_type": "code",
   "execution_count": null,
   "id": "b2aaa01e",
   "metadata": {
    "colab": {
     "base_uri": "https://localhost:8080/"
    },
    "id": "b2aaa01e",
    "outputId": "a80116e9-da4c-4127-d3d6-262e01ae64e2"
   },
   "outputs": [],
   "source": [
    "df1.columns"
   ]
  },
  {
   "cell_type": "code",
   "execution_count": null,
   "id": "36d06b98",
   "metadata": {
    "colab": {
     "base_uri": "https://localhost:8080/"
    },
    "id": "36d06b98",
    "outputId": "2d5a9de7-6ab0-4b79-e6b1-a967facc88fe"
   },
   "outputs": [],
   "source": [
    "df1.shape"
   ]
  },
  {
   "cell_type": "code",
   "execution_count": null,
   "id": "2bcaa79a",
   "metadata": {
    "colab": {
     "base_uri": "https://localhost:8080/"
    },
    "id": "2bcaa79a",
    "outputId": "81271ead-c32f-4cc8-dd37-1f403a1f8401"
   },
   "outputs": [],
   "source": [
    "df1.info()"
   ]
  },
  {
   "cell_type": "markdown",
   "id": "e6ebf5bd",
   "metadata": {
    "id": "e6ebf5bd"
   },
   "source": [
    "#  this data not null values"
   ]
  },
  {
   "cell_type": "code",
   "execution_count": null,
   "id": "3729e653",
   "metadata": {
    "colab": {
     "base_uri": "https://localhost:8080/"
    },
    "id": "3729e653",
    "outputId": "e2d711c3-ff4e-495f-a37c-1c676bcaea22"
   },
   "outputs": [],
   "source": [
    "df1.isna().sum()"
   ]
  },
  {
   "cell_type": "code",
   "execution_count": null,
   "id": "9d607904",
   "metadata": {
    "colab": {
     "base_uri": "https://localhost:8080/"
    },
    "id": "9d607904",
    "outputId": "2f402659-c812-4714-86fc-3acfeb019fa1"
   },
   "outputs": [],
   "source": [
    "df1.nunique()"
   ]
  },
  {
   "cell_type": "code",
   "execution_count": null,
   "id": "ad9db22e",
   "metadata": {
    "colab": {
     "base_uri": "https://localhost:8080/",
     "height": 300
    },
    "id": "ad9db22e",
    "outputId": "9a6c65a9-1db7-44bb-8854-bef67d716a8d"
   },
   "outputs": [],
   "source": [
    "df1.describe()"
   ]
  },
  {
   "cell_type": "code",
   "execution_count": null,
   "id": "d7004077",
   "metadata": {
    "colab": {
     "base_uri": "https://localhost:8080/",
     "height": 300
    },
    "id": "d7004077",
    "outputId": "b9bf6344-46ec-49a3-e17c-da0c59b8d385"
   },
   "outputs": [],
   "source": [
    "sns.boxplot(df1.Profit)"
   ]
  },
  {
   "cell_type": "code",
   "execution_count": null,
   "id": "7e04af92",
   "metadata": {
    "id": "7e04af92"
   },
   "outputs": [],
   "source": [
    "df1=df1[df1.Profit<=4000]"
   ]
  },
  {
   "cell_type": "code",
   "execution_count": null,
   "id": "172f586d",
   "metadata": {
    "colab": {
     "base_uri": "https://localhost:8080/",
     "height": 300
    },
    "id": "172f586d",
    "outputId": "82b43cb1-dd8a-4181-ca2c-4136abf64685"
   },
   "outputs": [],
   "source": [
    "sns.boxplot(df1.Profit)"
   ]
  },
  {
   "cell_type": "code",
   "execution_count": null,
   "id": "f6fc57a8",
   "metadata": {
    "colab": {
     "base_uri": "https://localhost:8080/",
     "height": 300
    },
    "id": "f6fc57a8",
    "outputId": "06b92060-1e61-4b8f-8c73-666a69a5ef8f"
   },
   "outputs": [],
   "source": [
    "sns.boxplot(df1.Cost)"
   ]
  },
  {
   "cell_type": "code",
   "execution_count": null,
   "id": "8d8594db",
   "metadata": {
    "id": "8d8594db"
   },
   "outputs": [],
   "source": [
    "df1=df1[df1.Cost<=4000]"
   ]
  },
  {
   "cell_type": "code",
   "execution_count": null,
   "id": "460f6630",
   "metadata": {
    "colab": {
     "base_uri": "https://localhost:8080/",
     "height": 300
    },
    "id": "460f6630",
    "outputId": "5298790e-02ef-41e5-ee11-d1171d520fe2"
   },
   "outputs": [],
   "source": [
    "sns.boxplot(df1.Cost)"
   ]
  },
  {
   "cell_type": "code",
   "execution_count": null,
   "id": "ff371a2c",
   "metadata": {
    "colab": {
     "base_uri": "https://localhost:8080/",
     "height": 300
    },
    "id": "ff371a2c",
    "outputId": "058abe2d-5378-40f5-d457-cdf80f56800e"
   },
   "outputs": [],
   "source": [
    "sns.boxplot(df1.Unit_Cost)"
   ]
  },
  {
   "cell_type": "code",
   "execution_count": null,
   "id": "e5779055",
   "metadata": {
    "id": "e5779055"
   },
   "outputs": [],
   "source": [
    "df1=df1[df1.Cost<=2000]"
   ]
  },
  {
   "cell_type": "code",
   "execution_count": null,
   "id": "WgQ0ov3fUjfO",
   "metadata": {
    "colab": {
     "base_uri": "https://localhost:8080/"
    },
    "id": "WgQ0ov3fUjfO",
    "outputId": "0860a2b0-1908-46ac-f90d-5a8741fe6c8d"
   },
   "outputs": [],
   "source": [
    "df1.shape"
   ]
  },
  {
   "cell_type": "code",
   "execution_count": 1,
   "id": "ec269530",
   "metadata": {
    "colab": {
     "base_uri": "https://localhost:8080/",
     "height": 300
    },
    "id": "ec269530",
    "outputId": "701b8471-1597-4b9c-b279-6d1835d8d415"
   },
   "outputs": [
    {
     "ename": "NameError",
     "evalue": "name 'sns' is not defined",
     "output_type": "error",
     "traceback": [
      "\u001b[0;31m---------------------------------------------------------------------------\u001b[0m",
      "\u001b[0;31mNameError\u001b[0m                                 Traceback (most recent call last)",
      "\u001b[0;32m<ipython-input-1-51be52199a33>\u001b[0m in \u001b[0;36m<module>\u001b[0;34m\u001b[0m\n\u001b[0;32m----> 1\u001b[0;31m \u001b[0msns\u001b[0m\u001b[0;34m.\u001b[0m\u001b[0mboxplot\u001b[0m\u001b[0;34m(\u001b[0m\u001b[0mdf1\u001b[0m\u001b[0;34m.\u001b[0m\u001b[0mCost\u001b[0m\u001b[0;34m)\u001b[0m\u001b[0;34m\u001b[0m\u001b[0;34m\u001b[0m\u001b[0m\n\u001b[0m",
      "\u001b[0;31mNameError\u001b[0m: name 'sns' is not defined"
     ]
    }
   ],
   "source": [
    "sns.boxplot(df1.Cost)"
   ]
  },
  {
   "cell_type": "code",
   "execution_count": null,
   "id": "176cf811",
   "metadata": {
    "colab": {
     "base_uri": "https://localhost:8080/",
     "height": 300
    },
    "id": "176cf811",
    "outputId": "df5a6971-5f0a-4915-c422-99e480962df8"
   },
   "outputs": [],
   "source": [
    "sns.boxplot(df1.Unit_Price)"
   ]
  },
  {
   "cell_type": "code",
   "execution_count": null,
   "id": "46f3a578",
   "metadata": {
    "colab": {
     "base_uri": "https://localhost:8080/"
    },
    "id": "46f3a578",
    "outputId": "08c88f4e-07a9-4366-84ac-95d2a05432c1"
   },
   "outputs": [],
   "source": [
    "df1=df1[df1.Unit_Price<=3000]\n",
    "df1.shape"
   ]
  },
  {
   "cell_type": "code",
   "execution_count": null,
   "id": "712504d5",
   "metadata": {
    "colab": {
     "base_uri": "https://localhost:8080/",
     "height": 300
    },
    "id": "712504d5",
    "outputId": "b70f2f86-f9df-496d-af94-c100f29caba5"
   },
   "outputs": [],
   "source": [
    "sns.boxplot(df1.Unit_Price)"
   ]
  },
  {
   "cell_type": "code",
   "execution_count": null,
   "id": "192dfe15",
   "metadata": {
    "colab": {
     "base_uri": "https://localhost:8080/",
     "height": 300
    },
    "id": "192dfe15",
    "outputId": "8d190488-15e3-4743-d138-34441722b8f6"
   },
   "outputs": [],
   "source": [
    "sns.boxplot(df1.Revenue)"
   ]
  },
  {
   "cell_type": "code",
   "execution_count": null,
   "id": "8b7693ca",
   "metadata": {
    "colab": {
     "base_uri": "https://localhost:8080/"
    },
    "id": "8b7693ca",
    "outputId": "5d5f7b65-f797-4733-ab75-a129a20aed1e"
   },
   "outputs": [],
   "source": [
    "df1=df1[df1.Revenue<=3000]\n",
    "df1.shape"
   ]
  },
  {
   "cell_type": "code",
   "execution_count": null,
   "id": "75fa6556",
   "metadata": {
    "colab": {
     "base_uri": "https://localhost:8080/",
     "height": 300
    },
    "id": "75fa6556",
    "outputId": "0aa8ceb2-59cf-46f5-d08d-0515017c3a7c"
   },
   "outputs": [],
   "source": [
    "sns.boxplot(df1.Revenue)"
   ]
  },
  {
   "cell_type": "code",
   "execution_count": null,
   "id": "42455147",
   "metadata": {
    "colab": {
     "base_uri": "https://localhost:8080/",
     "height": 331
    },
    "id": "42455147",
    "outputId": "4dd894fb-8a23-4b5e-9892-317a6715ffec"
   },
   "outputs": [],
   "source": [
    "corr =df1.corr()\n",
    "corr"
   ]
  },
  {
   "cell_type": "code",
   "execution_count": null,
   "id": "ed856fe9",
   "metadata": {
    "colab": {
     "base_uri": "https://localhost:8080/",
     "height": 771
    },
    "id": "ed856fe9",
    "outputId": "42905787-96f6-4a87-fe3c-a7344f647c2e"
   },
   "outputs": [],
   "source": [
    "cp = sns.heatmap(corr,cmap='Oranges', annot=True)\n",
    "plt.gcf().set_size_inches(12,12)"
   ]
  },
  {
   "cell_type": "code",
   "execution_count": null,
   "id": "fc83c049",
   "metadata": {
    "colab": {
     "base_uri": "https://localhost:8080/"
    },
    "id": "fc83c049",
    "outputId": "0a4b1047-6c2d-4d75-ccf7-7a2375c81bea"
   },
   "outputs": [],
   "source": [
    "df1.duplicated().values.any()"
   ]
  },
  {
   "cell_type": "code",
   "execution_count": null,
   "id": "d19fe080",
   "metadata": {
    "colab": {
     "base_uri": "https://localhost:8080/"
    },
    "id": "d19fe080",
    "outputId": "e328a9af-4f6e-4a47-b942-e2bb1734bc55"
   },
   "outputs": [],
   "source": [
    "df1.duplicated().sum()"
   ]
  },
  {
   "cell_type": "code",
   "execution_count": null,
   "id": "235382a5",
   "metadata": {
    "colab": {
     "base_uri": "https://localhost:8080/"
    },
    "id": "235382a5",
    "outputId": "d25f1be5-f29b-4e6e-e983-d5d0e89000ce"
   },
   "outputs": [],
   "source": [
    "df1.duplicated()"
   ]
  },
  {
   "cell_type": "code",
   "execution_count": null,
   "id": "FL_ntLeNWf-m",
   "metadata": {
    "colab": {
     "base_uri": "https://localhost:8080/"
    },
    "id": "FL_ntLeNWf-m",
    "outputId": "1f3f37ca-cf71-46fd-d70b-1dd9ac12a4cc"
   },
   "outputs": [],
   "source": [
    "df1.duplicated().values.any()"
   ]
  },
  {
   "cell_type": "markdown",
   "id": "WN_DTMGrazr_",
   "metadata": {
    "id": "WN_DTMGrazr_"
   },
   "source": [
    "# **Remove duplicated Records**\n",
    "\n"
   ]
  },
  {
   "cell_type": "code",
   "execution_count": null,
   "id": "09ccf522",
   "metadata": {
    "colab": {
     "base_uri": "https://localhost:8080/"
    },
    "id": "09ccf522",
    "outputId": "767a4dd2-9be5-43d7-d43e-c46a7d68cb89"
   },
   "outputs": [],
   "source": [
    "df1 = df1.drop_duplicates()\n",
    "df1.shape"
   ]
  },
  {
   "cell_type": "code",
   "execution_count": null,
   "id": "e976d3d6",
   "metadata": {
    "colab": {
     "base_uri": "https://localhost:8080/"
    },
    "id": "e976d3d6",
    "outputId": "a9659c63-26a3-46d8-9138-4b6eddcd82e5"
   },
   "outputs": [],
   "source": [
    "df1.duplicated().values.any()"
   ]
  },
  {
   "cell_type": "code",
   "execution_count": null,
   "id": "9e43248e",
   "metadata": {
    "colab": {
     "base_uri": "https://localhost:8080/"
    },
    "id": "9e43248e",
    "outputId": "a3427a50-870f-4f7b-cb08-5496de6548f8"
   },
   "outputs": [],
   "source": [
    "df1.dtypes"
   ]
  },
  {
   "cell_type": "markdown",
   "id": "72aac4ad",
   "metadata": {
    "id": "72aac4ad"
   },
   "source": [
    "# EDA for dataset"
   ]
  },
  {
   "cell_type": "code",
   "execution_count": null,
   "id": "19645074",
   "metadata": {
    "colab": {
     "base_uri": "https://localhost:8080/"
    },
    "id": "19645074",
    "outputId": "8c2d4576-21a4-450a-da5f-aa4a61d64ed0"
   },
   "outputs": [],
   "source": [
    "df1.Product_Category.value_counts()"
   ]
  },
  {
   "cell_type": "code",
   "execution_count": null,
   "id": "aba509ca",
   "metadata": {
    "colab": {
     "base_uri": "https://localhost:8080/",
     "height": 391
    },
    "id": "aba509ca",
    "outputId": "17a2543f-ffc8-4ebe-ace8-2e1be09b5f08"
   },
   "outputs": [],
   "source": [
    "df1.groupby(['Country', 'Product_Category'])['Revenue'].sum()\n",
    "sns.countplot(data = df1, x='Country', hue='Product_Category', palette=('Oranges'))\n",
    "plt.savefig('product11.jpg')\n",
    "plt.gcf().set_size_inches(12,6)"
   ]
  },
  {
   "cell_type": "code",
   "execution_count": null,
   "id": "ad251628",
   "metadata": {
    "colab": {
     "base_uri": "https://localhost:8080/"
    },
    "id": "ad251628",
    "outputId": "f6ab5231-021c-4501-b1e4-9f2bb0123dc9"
   },
   "outputs": [],
   "source": [
    "df1['Product_Category'].value_counts()"
   ]
  },
  {
   "cell_type": "code",
   "execution_count": null,
   "id": "0d621014",
   "metadata": {
    "colab": {
     "base_uri": "https://localhost:8080/",
     "height": 456
    },
    "id": "0d621014",
    "outputId": "d2d53163-7993-4550-8c20-603475e47660"
   },
   "outputs": [],
   "source": [
    "sns.countplot(data = df1, x='Country', hue='Customer_Gender',palette=('Oranges'))\n",
    "plt.xticks(rotation=60)\n",
    "sns.set_style(\"whitegrid\")\n",
    "plt.legend(['Male', 'Female'])\n",
    "plt.gcf().set_size_inches(11,6)\n",
    "plt.savefig('gender2,.jpg')\n",
    "plt.show()"
   ]
  },
  {
   "cell_type": "code",
   "execution_count": null,
   "id": "f1a30f75",
   "metadata": {
    "id": "f1a30f75"
   },
   "outputs": [],
   "source": [
    "df_age = df1['Customer_Age'].value_counts()"
   ]
  },
  {
   "cell_type": "code",
   "execution_count": null,
   "id": "574b1d6a",
   "metadata": {
    "colab": {
     "base_uri": "https://localhost:8080/"
    },
    "id": "574b1d6a",
    "outputId": "8e6e7fcf-d5ee-458a-f860-28e86b12a27d"
   },
   "outputs": [],
   "source": [
    "df_age"
   ]
  },
  {
   "cell_type": "code",
   "execution_count": null,
   "id": "16a3456b",
   "metadata": {
    "colab": {
     "base_uri": "https://localhost:8080/",
     "height": 790
    },
    "id": "16a3456b",
    "outputId": "4dbb8cbb-4718-4a4b-d089-d9f490750802"
   },
   "outputs": [],
   "source": [
    "bikes_df =df1[df1['Product_Category']=='Bikes']\n",
    "bikes_df"
   ]
  },
  {
   "cell_type": "code",
   "execution_count": null,
   "id": "4520b729",
   "metadata": {
    "colab": {
     "base_uri": "https://localhost:8080/"
    },
    "id": "4520b729",
    "outputId": "e39017c6-25f9-40cc-c0f5-d7e5689321ed"
   },
   "outputs": [],
   "source": [
    "rs = bikes_df.groupby('Customer_Gender')['Sub_Category'].value_counts()\n",
    "rs"
   ]
  },
  {
   "cell_type": "code",
   "execution_count": null,
   "id": "47b12e79",
   "metadata": {},
   "outputs": [],
   "source": [
    "fig, rs = plt.subplots(figsize=(8,8))\n",
    "rs = bikes_df.groupby('Customer_Gender')['Sub_Category'].value_counts()\n",
    "plt.savefig('Customer_Gender.jpg')\n",
    "sns.countplot(data = bikes_df, x='Sub_Category', hue='Customer_Gender',palette=('Oranges'));"
   ]
  },
  {
   "cell_type": "code",
   "execution_count": null,
   "id": "46cfc175",
   "metadata": {
    "colab": {
     "base_uri": "https://localhost:8080/",
     "height": 391
    },
    "id": "46cfc175",
    "outputId": "f545fb6b-c738-4517-a323-592e215a8174"
   },
   "outputs": [],
   "source": [
    "fig, rs = plt.subplots(figsize=(8,8))\n",
    "rs = bikes_df.groupby('Country')['Sub_Category'].value_counts()\n",
    "plt.savefig('country1.jpg')\n",
    "sns.countplot(data = bikes_df, x='Sub_Category', hue='Country',palette=('Oranges'));"
   ]
  },
  {
   "cell_type": "code",
   "execution_count": null,
   "id": "a7fd98d7",
   "metadata": {
    "colab": {
     "base_uri": "https://localhost:8080/",
     "height": 644
    },
    "id": "a7fd98d7",
    "outputId": "3312d91d-7bec-4413-df12-a374a0bdde3c"
   },
   "outputs": [],
   "source": [
    "sns.countplot(data = df1, x='Age_Group', hue='Customer_Gender',palette=('Oranges'))\n",
    "plt.xticks(rotation=0)\n",
    "sns.set_style(\"whitegrid\")\n",
    "plt.legend(['Male', 'Female'])\n",
    "plt.gcf().set_size_inches(8,8)\n",
    "plt.show()\n",
    "plt.savefig('Age_Group whith gender.jpg')\n",
    "plt.figure(figsize=(10,10))"
   ]
  },
  {
   "cell_type": "code",
   "execution_count": null,
   "id": "66a12db5",
   "metadata": {
    "colab": {
     "base_uri": "https://localhost:8080/",
     "height": 456
    },
    "id": "66a12db5",
    "outputId": "cdf84a26-fbee-4f8e-9d8b-5ae5d0a72141"
   },
   "outputs": [],
   "source": [
    "sns.countplot(data = df1, x='Country', hue='Age_Group',palette=('Oranges'))\n",
    "plt.xticks(rotation=60)\n",
    "sns.set_style(\"whitegrid\")\n",
    "plt.gcf().set_size_inches(12,6)\n",
    "plt.savefig('country.jpg')\n",
    "plt.show()"
   ]
  },
  {
   "cell_type": "code",
   "execution_count": null,
   "id": "9059e987",
   "metadata": {
    "colab": {
     "base_uri": "https://localhost:8080/",
     "height": 357
    },
    "id": "9059e987",
    "outputId": "c7a38ce1-6489-42f5-bd55-0eb155197095"
   },
   "outputs": [],
   "source": [
    "df_product = df1['Product_Category'].value_counts()\n",
    "label= [df_product.index.tolist()]\n",
    "plt.pie(df_product, shadow=True,labels=label[0],explode=(0.2, 0.2, 0.2), autopct='%1.1f%%', startangle=80)\n",
    "plt.gcf().set_size_inches(12,6)\n",
    "plt.savefig('product.jpg')\n",
    "plt.show()"
   ]
  },
  {
   "cell_type": "code",
   "execution_count": null,
   "id": "af5f24dd",
   "metadata": {
    "colab": {
     "base_uri": "https://localhost:8080/",
     "height": 391
    },
    "id": "af5f24dd",
    "outputId": "5ca31c2e-aeb9-44b3-a25b-7842963f90aa"
   },
   "outputs": [],
   "source": [
    "sns.countplot(data = df1, x='Product_Category', hue='Customer_Gender', palette=('Oranges'))\n",
    "plt.xticks(rotation=0)\n",
    "sns.set_style(\"whitegrid\")\n",
    "plt.legend(['Male', 'Female'])\n",
    "plt.gcf().set_size_inches(10,6)\n",
    "plt.savefig('customer.jpg')\n",
    "plt.show()"
   ]
  },
  {
   "cell_type": "code",
   "execution_count": null,
   "id": "bc8f29c4",
   "metadata": {
    "colab": {
     "base_uri": "https://localhost:8080/",
     "height": 357
    },
    "id": "bc8f29c4",
    "outputId": "3b0dd57b-8437-4891-989a-389e68c8a175"
   },
   "outputs": [],
   "source": [
    "df_Bikes = df1[df1['Product_Category'] == 'Bikes']\n",
    "df_Bikes = df_Bikes['Sub_Category'].value_counts()\n",
    "\n",
    "label = [df_Bikes.index.tolist()]\n",
    "plt.pie(df_Bikes, shadow=True, autopct='%1.1f%%', startangle=90, labels=label[0])\n",
    "plt.gcf().set_size_inches(12,6)\n",
    "plt.savefig('sub.jpg')\n",
    "plt.show()"
   ]
  },
  {
   "cell_type": "code",
   "execution_count": null,
   "id": "68e67bdd",
   "metadata": {
    "colab": {
     "base_uri": "https://localhost:8080/",
     "height": 790
    },
    "id": "68e67bdd",
    "outputId": "633d9a8b-c7b9-426f-c17b-0b708b17f169"
   },
   "outputs": [],
   "source": [
    "bikes_df"
   ]
  },
  {
   "cell_type": "code",
   "execution_count": null,
   "id": "f6b5a353",
   "metadata": {
    "colab": {
     "base_uri": "https://localhost:8080/",
     "height": 268
    },
    "id": "f6b5a353",
    "outputId": "3dc5a5ba-caea-465d-d741-c124510d13c4"
   },
   "outputs": [],
   "source": [
    "da = bikes_df.groupby('Country')['Sub_Category','Unit_Price'].max()\n",
    "da"
   ]
  },
  {
   "cell_type": "code",
   "execution_count": null,
   "id": "3b34cd99",
   "metadata": {
    "colab": {
     "base_uri": "https://localhost:8080/",
     "height": 268
    },
    "id": "3b34cd99",
    "outputId": "a834a8d1-4e8a-4153-b708-f8934cbe081f"
   },
   "outputs": [],
   "source": [
    "most_years = bikes_df.groupby('Year')['Sub_Category','Unit_Price'].sum()\n",
    "most_years"
   ]
  },
  {
   "cell_type": "code",
   "execution_count": null,
   "id": "d38d8bfd",
   "metadata": {
    "colab": {
     "base_uri": "https://localhost:8080/",
     "height": 376
    },
    "id": "d38d8bfd",
    "outputId": "d066f43b-15fd-4f70-91da-964a54795ab2"
   },
   "outputs": [],
   "source": [
    "df_product_month = df1['Month'].value_counts()\n",
    "\n",
    "label= [df_product_month.index.tolist()]\n",
    "plt.pie(df_product_month, shadow=True, labels=label[0], explode=(0.2, 0.2, 0.2, 0.2, 0.2, 0.2, 0.2, 0.2, 0.2, 0.2, 0.2, 0.2),\n",
    "        autopct='%1.1f%%', startangle=90)\n",
    "plt.gcf().set_size_inches(12,6)\n",
    "plt.savefig(' based on Month.jpg')\n",
    "plt.show()\n"
   ]
  },
  {
   "cell_type": "code",
   "execution_count": null,
   "id": "2b46dbd6",
   "metadata": {
    "colab": {
     "base_uri": "https://localhost:8080/",
     "height": 517
    },
    "id": "2b46dbd6",
    "outputId": "118fadfa-53ea-44a0-9ae1-6b42430e768b"
   },
   "outputs": [],
   "source": [
    "plt.figure(figsize=(8,8))\n",
    "ax = df1.groupby('Country')['Profit'].sum().plot(kind='barh',color=[0.8500, 0.3250, 0.0980])\n",
    "ax.set(xlabel='Profit', ylabel='Country')"
   ]
  },
  {
   "cell_type": "code",
   "execution_count": null,
   "id": "b37e3bf2",
   "metadata": {
    "colab": {
     "base_uri": "https://localhost:8080/",
     "height": 609
    },
    "id": "b37e3bf2",
    "outputId": "3f1ff5c5-fad8-4999-ad46-7277afce1787"
   },
   "outputs": [],
   "source": [
    "ax = df1.groupby('Year')['Revenue', 'Profit', 'Cost'].sum().plot(kind='barh')\n",
    "ax.set(xlabel='Price in eur', ylabel='Year')\n",
    "plt.savefig(' based on Month.jpg')\n",
    "plt.gcf().set_size_inches(10,10)\n"
   ]
  },
  {
   "cell_type": "code",
   "execution_count": null,
   "id": "d9836b71",
   "metadata": {
    "colab": {
     "base_uri": "https://localhost:8080/",
     "height": 369
    },
    "id": "d9836b71",
    "outputId": "f16637b7-004a-4ad7-a0de-473a3b639284"
   },
   "outputs": [],
   "source": [
    "fig, ax = plt.subplots(figsize=(10,5))\n",
    "sns.barplot(data= df1, x='Country', y='Revenue', hue='Age_Group',  palette=('Oranges') ,alpha=1,ci=None, ax=ax)\n",
    "plt.title('Global Revenue by Age Group of Customers',fontdict={'fontsize': 15}, y=1.02)\n",
    "plt.legend(bbox_to_anchor=(1.05, 0.6))\n",
    "plt.tight_layout()\n",
    "plt.savefig('evenue by Age Group1.jpg')\n",
    "plt.show()"
   ]
  },
  {
   "cell_type": "code",
   "execution_count": null,
   "id": "a52797bf",
   "metadata": {
    "colab": {
     "base_uri": "https://localhost:8080/",
     "height": 391
    },
    "id": "a52797bf",
    "outputId": "6861b467-f742-49f0-bc6f-638df9dbdc09"
   },
   "outputs": [],
   "source": [
    "# Check sales by season and country\n",
    "\n",
    "label = ['Jan', 'Feb', 'March', 'April', 'May', 'June', 'July', 'Aug', 'Sep', 'Oct', 'Nov', 'Dec']\n",
    "sns.countplot(data = df1, x='Month', hue='Country', palette=('Oranges'))\n",
    "plt.xticks(ticks=[0, 1, 2, 3, 4, 5, 6, 7, 8, 9, 10, 11], labels=label)\n",
    "sns.set_style(\"whitegrid\")\n",
    "plt.gcf().set_size_inches(12,6)\n",
    "plt.savefig('month1.jpg')\n",
    "plt.show()"
   ]
  },
  {
   "cell_type": "code",
   "execution_count": null,
   "id": "4a3299ef",
   "metadata": {
    "colab": {
     "base_uri": "https://localhost:8080/",
     "height": 567
    },
    "id": "4a3299ef",
    "outputId": "ee3bda80-e676-46d8-8767-59f0063455fd"
   },
   "outputs": [],
   "source": [
    "cols_to_plot = ['Sub_Category', 'Profit', 'Revenue', 'Customer_Age']\n",
    "plt.figure(figsize=(10,10))\n",
    "sns.pairplot(df1[cols_to_plot], hue='Sub_Category',palette=('Oranges'))\n",
    "plt.show() "
   ]
  },
  {
   "cell_type": "code",
   "execution_count": null,
   "id": "711e2a3b",
   "metadata": {
    "colab": {
     "base_uri": "https://localhost:8080/",
     "height": 412
    },
    "id": "711e2a3b",
    "outputId": "21c0cbab-0b80-47ff-ab0d-d03435cdad01"
   },
   "outputs": [],
   "source": [
    "# Correlation plot Revenue vs Cost\n",
    "\n",
    "sns.scatterplot(data=df1, x=\"Revenue\", y=\"Cost\", hue='Year', palette=('Oranges'))\n",
    "plt.xlim(0,3000)\n",
    "plt.ylim(0,2000)\n",
    "plt.gcf().set_size_inches(12,6)\n",
    "\n",
    "m, b = np.polyfit(df1[\"Revenue\"], df1[\"Cost\"], 1)\n",
    "plt.savefig('revenue.jpg')\n",
    "plt.plot(df1[\"Revenue\"], m*df1[\"Revenue\"] + b);"
   ]
  },
  {
   "cell_type": "code",
   "execution_count": null,
   "id": "e3da6fed",
   "metadata": {
    "colab": {
     "base_uri": "https://localhost:8080/"
    },
    "id": "e3da6fed",
    "outputId": "aa7dfeaf-c6ca-4956-cd0b-1f69870dac5f"
   },
   "outputs": [],
   "source": [
    "df1.columns\n"
   ]
  },
  {
   "cell_type": "code",
   "execution_count": null,
   "id": "d813fc53",
   "metadata": {
    "id": "d813fc53"
   },
   "outputs": [],
   "source": [
    "df1.drop('Order_Quantity',axis =1,inplace=True)"
   ]
  },
  {
   "cell_type": "code",
   "execution_count": null,
   "id": "f88540df",
   "metadata": {
    "id": "f88540df"
   },
   "outputs": [],
   "source": [
    "df1.drop('Unit_Cost',axis =1,inplace=True)"
   ]
  },
  {
   "cell_type": "code",
   "execution_count": null,
   "id": "762fc8b9",
   "metadata": {
    "id": "762fc8b9"
   },
   "outputs": [],
   "source": [
    "df1.drop('Unit_Price',axis =1,inplace=True)"
   ]
  },
  {
   "cell_type": "code",
   "execution_count": null,
   "id": "80a9a687",
   "metadata": {
    "id": "80a9a687"
   },
   "outputs": [],
   "source": [
    "df1.drop('Revenue',axis =1,inplace=True)"
   ]
  },
  {
   "cell_type": "code",
   "execution_count": null,
   "id": "3ad49497",
   "metadata": {
    "colab": {
     "base_uri": "https://localhost:8080/",
     "height": 597
    },
    "id": "3ad49497",
    "outputId": "615386fd-3904-4e2c-a3ce-fcdfb94b9b3d"
   },
   "outputs": [],
   "source": [
    "df1"
   ]
  },
  {
   "cell_type": "code",
   "execution_count": null,
   "id": "b473515b",
   "metadata": {
    "colab": {
     "base_uri": "https://localhost:8080/"
    },
    "id": "b473515b",
    "outputId": "1892e16e-fece-43cc-a777-a19bb6124b01"
   },
   "outputs": [],
   "source": [
    "df1.dtypes"
   ]
  },
  {
   "cell_type": "code",
   "execution_count": null,
   "id": "b8f7099e",
   "metadata": {
    "id": "b8f7099e"
   },
   "outputs": [],
   "source": [
    "bike = df1.select_dtypes(exclude=['object']).copy()"
   ]
  },
  {
   "cell_type": "code",
   "execution_count": null,
   "id": "16f077bd",
   "metadata": {
    "colab": {
     "base_uri": "https://localhost:8080/",
     "height": 424
    },
    "id": "16f077bd",
    "outputId": "6bede1bd-f3b2-4fcd-a1f9-cacf85a271d1"
   },
   "outputs": [],
   "source": [
    "bike"
   ]
  },
  {
   "cell_type": "code",
   "execution_count": null,
   "id": "ca596261",
   "metadata": {
    "id": "ca596261"
   },
   "outputs": [],
   "source": [
    "bike['Customer_Age'] = df1['Customer_Age']"
   ]
  },
  {
   "cell_type": "code",
   "execution_count": null,
   "id": "e1d7685c",
   "metadata": {
    "id": "e1d7685c"
   },
   "outputs": [],
   "source": [
    "bike['Customer_Gender'] = df1['Customer_Gender']"
   ]
  },
  {
   "cell_type": "code",
   "execution_count": null,
   "id": "2d2c1d0e",
   "metadata": {
    "id": "2d2c1d0e"
   },
   "outputs": [],
   "source": [
    "bike['Country'] = df1['Country']"
   ]
  },
  {
   "cell_type": "code",
   "execution_count": null,
   "id": "18e6cf20",
   "metadata": {
    "id": "18e6cf20"
   },
   "outputs": [],
   "source": [
    "bike['Product_Category'] = df1['Product_Category']"
   ]
  },
  {
   "cell_type": "code",
   "execution_count": null,
   "id": "a8c573ba",
   "metadata": {
    "colab": {
     "base_uri": "https://localhost:8080/",
     "height": 424
    },
    "id": "a8c573ba",
    "outputId": "ba02e10f-08f2-4eb9-ec46-ffc9786cf6d4"
   },
   "outputs": [],
   "source": [
    "bike"
   ]
  },
  {
   "cell_type": "code",
   "execution_count": null,
   "id": "42cb99f5",
   "metadata": {
    "id": "42cb99f5"
   },
   "outputs": [],
   "source": [
    "bike = pd.get_dummies(bike)"
   ]
  },
  {
   "cell_type": "code",
   "execution_count": null,
   "id": "86d18f12",
   "metadata": {
    "colab": {
     "base_uri": "https://localhost:8080/",
     "height": 460
    },
    "id": "86d18f12",
    "outputId": "066a2d95-4bc0-4d2e-cc60-39ddc7fb83d5"
   },
   "outputs": [],
   "source": [
    "bike"
   ]
  },
  {
   "cell_type": "code",
   "execution_count": null,
   "id": "1d6fc754",
   "metadata": {
    "colab": {
     "base_uri": "https://localhost:8080/"
    },
    "id": "1d6fc754",
    "outputId": "4658bfef-b0e9-46fa-de03-828fa5e36c3b"
   },
   "outputs": [],
   "source": [
    "bike.shape"
   ]
  },
  {
   "cell_type": "code",
   "execution_count": null,
   "id": "2321804f",
   "metadata": {
    "colab": {
     "base_uri": "https://localhost:8080/"
    },
    "id": "2321804f",
    "outputId": "0dc88ed8-bf33-4c66-aba5-1eb3ba1d8829"
   },
   "outputs": [],
   "source": [
    "bike.columns"
   ]
  },
  {
   "cell_type": "code",
   "execution_count": null,
   "id": "12c7416e",
   "metadata": {
    "id": "12c7416e"
   },
   "outputs": [],
   "source": [
    "X, y = bike.drop('Profit',axis=1), bike['Profit']\n",
    "\n",
    "X_train_val, X_test, y_train_val, y_test = train_test_split(X, y, test_size=0.2, random_state=100)"
   ]
  },
  {
   "cell_type": "code",
   "execution_count": null,
   "id": "3735d2a6",
   "metadata": {
    "id": "3735d2a6"
   },
   "outputs": [],
   "source": [
    "X_train, X_val, y_train, y_val = train_test_split(X, y, test_size=.25, random_state=100)"
   ]
  },
  {
   "cell_type": "code",
   "execution_count": null,
   "id": "d018ab97",
   "metadata": {
    "colab": {
     "base_uri": "https://localhost:8080/",
     "height": 666
    },
    "id": "d018ab97",
    "outputId": "841500cc-5bd9-4368-8f05-0429e71fd99b"
   },
   "outputs": [],
   "source": [
    "plt.rcParams[\"figure.figsize\"] = (10,8);\n",
    "\n",
    "sns.heatmap(bike.corr(), cmap = 'OrRd', annot = True, vmin= -1, vmax= 1, linewidths=1.5, fmt='.2f');\n",
    "plt.title('CORRELATION MATRIX\\n', loc='left', fontsize=18);"
   ]
  },
  {
   "cell_type": "code",
   "execution_count": null,
   "id": "08049d8f",
   "metadata": {
    "colab": {
     "base_uri": "https://localhost:8080/",
     "height": 460
    },
    "id": "08049d8f",
    "outputId": "9dc9c982-57a5-4c91-9150-cfa874a7f2f6"
   },
   "outputs": [],
   "source": [
    "X_train_val"
   ]
  },
  {
   "cell_type": "code",
   "execution_count": null,
   "id": "305aad0b",
   "metadata": {
    "colab": {
     "base_uri": "https://localhost:8080/"
    },
    "id": "305aad0b",
    "outputId": "e7b1da39-4a3a-440a-80d4-59225367c9e3"
   },
   "outputs": [],
   "source": [
    "len(X_train_val.index)"
   ]
  },
  {
   "cell_type": "code",
   "execution_count": null,
   "id": "5fc0731f",
   "metadata": {
    "colab": {
     "base_uri": "https://localhost:8080/"
    },
    "id": "5fc0731f",
    "outputId": "f8291f27-4d0d-4e32-bab2-4364093c7da1"
   },
   "outputs": [],
   "source": [
    "y_train_val"
   ]
  },
  {
   "cell_type": "code",
   "execution_count": null,
   "id": "726212c8",
   "metadata": {
    "colab": {
     "base_uri": "https://localhost:8080/"
    },
    "id": "726212c8",
    "outputId": "d210a30d-9db7-4cb9-cf24-d895ab68938a"
   },
   "outputs": [],
   "source": [
    "len(y_train_val.index)"
   ]
  },
  {
   "cell_type": "code",
   "execution_count": null,
   "id": "4d1ad302",
   "metadata": {
    "colab": {
     "base_uri": "https://localhost:8080/"
    },
    "id": "4d1ad302",
    "outputId": "a5342732-a8f5-413f-f0ef-96e0287318ec"
   },
   "outputs": [],
   "source": [
    "len(X_test)"
   ]
  },
  {
   "cell_type": "code",
   "execution_count": null,
   "id": "e9fb2189",
   "metadata": {
    "colab": {
     "base_uri": "https://localhost:8080/"
    },
    "id": "e9fb2189",
    "outputId": "d2f3d3a3-b8c5-484d-94d8-6b5441ce6ad4"
   },
   "outputs": [],
   "source": [
    "len(y_test)"
   ]
  },
  {
   "cell_type": "code",
   "execution_count": null,
   "id": "6c44cbc2",
   "metadata": {
    "colab": {
     "base_uri": "https://localhost:8080/"
    },
    "id": "6c44cbc2",
    "outputId": "af8688f9-78e1-4c94-8bb0-3e5bab936f64"
   },
   "outputs": [],
   "source": [
    "X_train_val.index"
   ]
  },
  {
   "cell_type": "code",
   "execution_count": null,
   "id": "3fbe7ce5",
   "metadata": {
    "colab": {
     "base_uri": "https://localhost:8080/"
    },
    "id": "3fbe7ce5",
    "outputId": "d8c27277-5199-420b-957e-c7aa5d315c85"
   },
   "outputs": [],
   "source": [
    "X_test.index"
   ]
  },
  {
   "cell_type": "code",
   "execution_count": null,
   "id": "70face7e",
   "metadata": {
    "colab": {
     "base_uri": "https://localhost:8080/",
     "height": 460
    },
    "id": "70face7e",
    "outputId": "37a9ff81-6132-4677-da32-383acec46712"
   },
   "outputs": [],
   "source": [
    "X_train"
   ]
  },
  {
   "cell_type": "code",
   "execution_count": null,
   "id": "0acac8c7",
   "metadata": {
    "colab": {
     "base_uri": "https://localhost:8080/"
    },
    "id": "0acac8c7",
    "outputId": "7ddcf59a-cdd0-4729-93a9-8a3e1862ac3e"
   },
   "outputs": [],
   "source": [
    "y_train"
   ]
  },
  {
   "cell_type": "markdown",
   "id": "99463442",
   "metadata": {},
   "source": [
    "# Linear Regression"
   ]
  },
  {
   "cell_type": "code",
   "execution_count": null,
   "id": "c93387cb",
   "metadata": {
    "colab": {
     "base_uri": "https://localhost:8080/"
    },
    "id": "c93387cb",
    "outputId": "c1ac530a-fe51-41db-cad9-2eaf885e8dca"
   },
   "outputs": [],
   "source": [
    "lm = LinearRegression().fit(X_train,y_train)\n",
    "lm.score(X_train,y_train)"
   ]
  },
  {
   "cell_type": "code",
   "execution_count": null,
   "id": "d314a9d3",
   "metadata": {
    "id": "d314a9d3"
   },
   "outputs": [],
   "source": [
    "scaler = StandardScaler()\n",
    "\n",
    "X_train_scaled =scaler.fit_transform(X_train.values)\n",
    "X_val_scaled = scaler.transform(X_val.values)\n",
    "X_test_scaled = scaler.transform(X_test.values)\n"
   ]
  },
  {
   "cell_type": "code",
   "execution_count": null,
   "id": "Q7xcUmbjp4Qr",
   "metadata": {
    "colab": {
     "base_uri": "https://localhost:8080/"
    },
    "id": "Q7xcUmbjp4Qr",
    "outputId": "6763c2b5-b5a4-453d-df08-9ee4d279cb5f"
   },
   "outputs": [],
   "source": [
    "lm = LinearRegression().fit(X_train_scaled,y_train)\n",
    "lm.score(X_train_scaled,y_train)"
   ]
  },
  {
   "cell_type": "markdown",
   "id": "42de760d",
   "metadata": {},
   "source": [
    "# Ridge Regression"
   ]
  },
  {
   "cell_type": "code",
   "execution_count": null,
   "id": "f73829da",
   "metadata": {},
   "outputs": [],
   "source": [
    "lr_model_ridge = Ridge(alpha = 1000000)\n",
    "lr_model_ridge.fit(X_train, y_train)\n",
    "\n",
    "list(zip(X_train.columns, lr_model_ridge.coef_))\n"
   ]
  },
  {
   "cell_type": "code",
   "execution_count": null,
   "id": "0c695cb8",
   "metadata": {},
   "outputs": [],
   "source": [
    "lm_reg = Ridge(alpha=1)"
   ]
  },
  {
   "cell_type": "markdown",
   "id": "cf7bbe43",
   "metadata": {},
   "source": [
    "# Polynomial Regression"
   ]
  },
  {
   "cell_type": "code",
   "execution_count": null,
   "id": "KFihBDDBp4-O",
   "metadata": {
    "colab": {
     "base_uri": "https://localhost:8080/"
    },
    "id": "KFihBDDBp4-O",
    "outputId": "cf619102-e6aa-472b-9509-b62f18eb0169"
   },
   "outputs": [],
   "source": [
    "poly = PolynomialFeatures(degree=2) \n",
    "\n",
    "X_train_poly = poly.fit_transform(X_train.values)\n",
    "X_val_poly = poly.transform(X_val.values)\n",
    "X_test_poly = poly.transform(X_test.values)\n",
    "\n",
    "lm_poly = LinearRegression().fit(X_train_poly,y_train)\n",
    "lm_poly.score (X_train_poly,y_train)"
   ]
  },
  {
   "cell_type": "code",
   "execution_count": null,
   "id": "aFlkXDbgumtL",
   "metadata": {
    "colab": {
     "base_uri": "https://localhost:8080/"
    },
    "id": "aFlkXDbgumtL",
    "outputId": "94e473b1-f81e-4105-eabe-204b4876e34f"
   },
   "outputs": [],
   "source": [
    "poly3 = PolynomialFeatures(degree=3) \n",
    "\n",
    "X_train_poly3 = poly3.fit_transform(X_train.values)\n",
    "X_val_poly3 = poly3.transform(X_val.values)\n",
    "X_test_poly3 = poly3.transform(X_test.values)\n",
    "\n",
    "lm_poly3 = LinearRegression().fit(X_train_poly3,y_train)\n",
    "lm_poly3.score (X_train_poly3,y_train)"
   ]
  },
  {
   "cell_type": "code",
   "execution_count": null,
   "id": "VHgIHrUwvIOn",
   "metadata": {
    "colab": {
     "base_uri": "https://localhost:8080/"
    },
    "id": "VHgIHrUwvIOn",
    "outputId": "b79b1e64-e126-4164-ef7c-75f9c1549705"
   },
   "outputs": [],
   "source": [
    "poly4 = PolynomialFeatures(degree=4) \n",
    "\n",
    "X_train_poly4 = poly4.fit_transform(X_train.values)\n",
    "X_val_poly4 = poly4.transform(X_val.values)\n",
    "X_test_poly4 = poly4.transform(X_test.values)\n",
    "\n",
    "lm_poly4 = LinearRegression().fit(X_train_poly4,y_train)\n",
    "lm_poly4.score (X_train_poly4,y_train)"
   ]
  },
  {
   "cell_type": "markdown",
   "id": "f88641fc",
   "metadata": {},
   "source": [
    "# Linear , Ridge and Polynomial Regression"
   ]
  },
  {
   "cell_type": "code",
   "execution_count": null,
   "id": "dd448546",
   "metadata": {},
   "outputs": [],
   "source": [
    "lm.fit(X_train, y_train)\n",
    "print(f'Linear Regression train R^2: {lm.score(X_train, y_train):.3f}')\n",
    "\n",
    "lm_reg.fit(X_train_scaled, y_train)\n",
    "print(f'Ridge Regression train R^2: {lm_reg.score(X_train_scaled, y_train):.3f}')\n",
    "\n",
    "lm_poly.fit(X_train_poly, y_train)\n",
    "print(f'Degree 2 polynomial regression train R^2: {lm_poly.score(X_train_poly, y_train):.3f}')\n",
    "\n",
    "lm_poly4.fit(X_train_poly4, y_train)\n",
    "print(f'Degree 4 polynomial regression train R^2: {lm_poly4.score(X_train_poly4, y_train):.3f}')"
   ]
  },
  {
   "cell_type": "code",
   "execution_count": null,
   "id": "d176c5fd",
   "metadata": {
    "colab": {
     "base_uri": "https://localhost:8080/"
    },
    "id": "d176c5fd",
    "outputId": "95e51c84-9d1c-49de-cb31-965518eb096a"
   },
   "outputs": [],
   "source": [
    "lm.fit(X_val, y_val)\n",
    "print(f'Linear Regression val R^2: {lm.score(X_val, y_val):.3f}')\n",
    "\n",
    "lm_reg.fit(X_val_scaled, y_val)\n",
    "print(f'Ridge Regression val R^2: {lm_reg.score(X_val_scaled, y_val):.3f}')\n",
    "\n",
    "lm_poly.fit(X_val_poly, y_val)\n",
    "print(f'Degree 2 polynomial regression val R^2: {lm_poly.score(X_val_poly, y_val):.3f}')\n",
    "\n",
    "lm_poly3.fit(X_val_poly4, y_val)\n",
    "print(f'Degree 4 polynomial regression val R^2: {lm_poly4.score(X_val_poly4, y_val):.3f}')"
   ]
  },
  {
   "cell_type": "code",
   "execution_count": null,
   "id": "49bab598",
   "metadata": {},
   "outputs": [],
   "source": [
    "lm.fit(X_test, y_test)\n",
    "print(f'Linear Regression test R^2: {lm.score(X_test, y_test):.3f}')\n",
    "\n",
    "lm_reg.fit(X_test_scaled, y_test)\n",
    "print(f'Ridge Regression test R^2: {lm_reg.score(X_test_scaled, y_test):.3f}')\n",
    "\n",
    "lm_poly.fit(X_test_poly, y_test)\n",
    "print(f'Degree 2 polynomial regression test R^2: {lm_poly.score(X_test_poly, y_test):.3f}')\n",
    "\n",
    "lm_poly3.fit(X_test_poly4, y_test)\n",
    "print(f'Degree 4 polynomial regression test R^2: {lm_poly4.score(X_test_poly4, y_test):.3f}')"
   ]
  },
  {
   "cell_type": "code",
   "execution_count": null,
   "id": "4eb372c5",
   "metadata": {},
   "outputs": [],
   "source": [
    "sns.scatterplot(data=bike, x=\"Profit\", y=\"Cost\", palette=('OrRd_r'))\n",
    "plt.xlim(0,3000)\n",
    "plt.ylim(0,2000)\n",
    "plt.gcf().set_size_inches(12,6)\n",
    "\n",
    "m, b = np.polyfit(bike[\"Profit\"], bike[\"Cost\"], 1)\n",
    "plt.savefig('cost.jpg')\n",
    "plt.plot(bike[\"Profit\"], m*bike[\"Profit\"] + b)"
   ]
  },
  {
   "cell_type": "code",
   "execution_count": null,
   "id": "3b5fbe95",
   "metadata": {
    "id": "3b5fbe95"
   },
   "outputs": [],
   "source": [
    "lasso_model = Lasso(alpha = 10000) # this is a VERY HIGH regularization strength!, wouldn't usually be used\n",
    "lasso_model.fit(X_val , y_val)"
   ]
  },
  {
   "cell_type": "code",
   "execution_count": null,
   "id": "7e286767",
   "metadata": {
    "id": "7e286767"
   },
   "outputs": [],
   "source": [
    "list(zip(X_val.columns, lasso_model.coef_))"
   ]
  },
  {
   "cell_type": "code",
   "execution_count": null,
   "id": "8631eab6",
   "metadata": {
    "id": "8631eab6"
   },
   "outputs": [],
   "source": [
    "lasso_model.score(X_train,y_train)"
   ]
  },
  {
   "cell_type": "code",
   "execution_count": null,
   "id": "4b66f6a0",
   "metadata": {},
   "outputs": [],
   "source": [
    "from sklearn.tree import DecisionTreeRegressor"
   ]
  },
  {
   "cell_type": "code",
   "execution_count": null,
   "id": "217becc6",
   "metadata": {},
   "outputs": [],
   "source": [
    "td = DecisionTreeRegressor(random_state =100,max_depth=8) "
   ]
  },
  {
   "cell_type": "code",
   "execution_count": null,
   "id": "fefe5087",
   "metadata": {},
   "outputs": [],
   "source": [
    "td.fit(X_train,y_train)"
   ]
  },
  {
   "cell_type": "code",
   "execution_count": null,
   "id": "9423d1cc",
   "metadata": {},
   "outputs": [],
   "source": [
    "td.score(X_train,y_train)"
   ]
  },
  {
   "cell_type": "code",
   "execution_count": null,
   "id": "42e92097",
   "metadata": {},
   "outputs": [],
   "source": [
    "td.score(X_val,y_val)"
   ]
  },
  {
   "cell_type": "code",
   "execution_count": null,
   "id": "a6ca5fce",
   "metadata": {},
   "outputs": [],
   "source": [
    "td.score(X_test,y_test)"
   ]
  }
 ],
 "metadata": {
  "colab": {
   "name": "BIKE SALES.ipynb",
   "provenance": []
  },
  "kernelspec": {
   "display_name": "Python 3",
   "language": "python",
   "name": "python3"
  },
  "language_info": {
   "codemirror_mode": {
    "name": "ipython",
    "version": 3
   },
   "file_extension": ".py",
   "mimetype": "text/x-python",
   "name": "python",
   "nbconvert_exporter": "python",
   "pygments_lexer": "ipython3",
   "version": "3.8.8"
  }
 },
 "nbformat": 4,
 "nbformat_minor": 5
}
